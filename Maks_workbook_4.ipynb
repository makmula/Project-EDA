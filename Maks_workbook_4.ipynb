{
 "cells": [
  {
   "cell_type": "markdown",
   "metadata": {},
   "source": [
    "## Data Analysis on Aviation"
   ]
  },
  {
   "cell_type": "markdown",
   "metadata": {},
   "source": [
    "Makonnen Sharpe"
   ]
  },
  {
   "cell_type": "markdown",
   "metadata": {},
   "source": [
    "# Project Overview\n",
    " For this project, you will use data cleaning, imputation, analysis, and visualization to generate insights for a business stakeholder."
   ]
  },
  {
   "cell_type": "markdown",
   "metadata": {},
   "source": [
    "# Business Problem\n",
    "Your company is expanding in to new industries to diversify its portfolio. Specifically, they are interested in purchasing and operating airplanes for commercial and private enterprises, but do not know anything about the potential risks of aircraft. You are charged with determining which aircraft are the lowest risk for the company to start this new business endeavor. You must then translate your findings into actionable insights that the head of the new aviation division can use to help decide which aircraft to purchase."
   ]
  },
  {
   "cell_type": "code",
   "execution_count": 579,
   "metadata": {},
   "outputs": [],
   "source": [
    "#Importing libraries  \n",
    "import pandas as pd\n",
    "import numpy as np\n",
    "import matplotlib.pyplot as plt\n",
    "import seaborn as sns\n",
    "import plotly.express as px\n",
    "import warnings\n",
    "from IPython.display import Image\n",
    "\n",
    "warnings.filterwarnings('ignore')"
   ]
  },
  {
   "cell_type": "code",
   "execution_count": 580,
   "metadata": {},
   "outputs": [
    {
     "name": "stdout",
     "output_type": "stream",
     "text": [
      "Aviation_Data.csv\r\n"
     ]
    }
   ],
   "source": [
    " ls ../data"
   ]
  },
  {
   "cell_type": "markdown",
   "metadata": {},
   "source": [
    "# The data in its first state"
   ]
  },
  {
   "cell_type": "code",
   "execution_count": 540,
   "metadata": {},
   "outputs": [],
   "source": [
    "df= pd.read_csv('../data/Aviation_Data.csv')"
   ]
  },
  {
   "cell_type": "code",
   "execution_count": 541,
   "metadata": {},
   "outputs": [
    {
     "data": {
      "text/html": [
       "<div>\n",
       "<style scoped>\n",
       "    .dataframe tbody tr th:only-of-type {\n",
       "        vertical-align: middle;\n",
       "    }\n",
       "\n",
       "    .dataframe tbody tr th {\n",
       "        vertical-align: top;\n",
       "    }\n",
       "\n",
       "    .dataframe thead th {\n",
       "        text-align: right;\n",
       "    }\n",
       "</style>\n",
       "<table border=\"1\" class=\"dataframe\">\n",
       "  <thead>\n",
       "    <tr style=\"text-align: right;\">\n",
       "      <th></th>\n",
       "      <th>Event.Id</th>\n",
       "      <th>Investigation.Type</th>\n",
       "      <th>Accident.Number</th>\n",
       "      <th>Event.Date</th>\n",
       "      <th>Location</th>\n",
       "      <th>Country</th>\n",
       "      <th>Latitude</th>\n",
       "      <th>Longitude</th>\n",
       "      <th>Airport.Code</th>\n",
       "      <th>Airport.Name</th>\n",
       "      <th>...</th>\n",
       "      <th>Purpose.of.flight</th>\n",
       "      <th>Air.carrier</th>\n",
       "      <th>Total.Fatal.Injuries</th>\n",
       "      <th>Total.Serious.Injuries</th>\n",
       "      <th>Total.Minor.Injuries</th>\n",
       "      <th>Total.Uninjured</th>\n",
       "      <th>Weather.Condition</th>\n",
       "      <th>Broad.phase.of.flight</th>\n",
       "      <th>Report.Status</th>\n",
       "      <th>Publication.Date</th>\n",
       "    </tr>\n",
       "  </thead>\n",
       "  <tbody>\n",
       "    <tr>\n",
       "      <th>0</th>\n",
       "      <td>20001218X45444</td>\n",
       "      <td>Accident</td>\n",
       "      <td>SEA87LA080</td>\n",
       "      <td>1948-10-24</td>\n",
       "      <td>MOOSE CREEK, ID</td>\n",
       "      <td>United States</td>\n",
       "      <td>NaN</td>\n",
       "      <td>NaN</td>\n",
       "      <td>NaN</td>\n",
       "      <td>NaN</td>\n",
       "      <td>...</td>\n",
       "      <td>Personal</td>\n",
       "      <td>NaN</td>\n",
       "      <td>2.0</td>\n",
       "      <td>0.0</td>\n",
       "      <td>0.0</td>\n",
       "      <td>0.0</td>\n",
       "      <td>UNK</td>\n",
       "      <td>Cruise</td>\n",
       "      <td>Probable Cause</td>\n",
       "      <td>NaN</td>\n",
       "    </tr>\n",
       "    <tr>\n",
       "      <th>1</th>\n",
       "      <td>20001218X45447</td>\n",
       "      <td>Accident</td>\n",
       "      <td>LAX94LA336</td>\n",
       "      <td>1962-07-19</td>\n",
       "      <td>BRIDGEPORT, CA</td>\n",
       "      <td>United States</td>\n",
       "      <td>NaN</td>\n",
       "      <td>NaN</td>\n",
       "      <td>NaN</td>\n",
       "      <td>NaN</td>\n",
       "      <td>...</td>\n",
       "      <td>Personal</td>\n",
       "      <td>NaN</td>\n",
       "      <td>4.0</td>\n",
       "      <td>0.0</td>\n",
       "      <td>0.0</td>\n",
       "      <td>0.0</td>\n",
       "      <td>UNK</td>\n",
       "      <td>Unknown</td>\n",
       "      <td>Probable Cause</td>\n",
       "      <td>19-09-1996</td>\n",
       "    </tr>\n",
       "    <tr>\n",
       "      <th>2</th>\n",
       "      <td>20061025X01555</td>\n",
       "      <td>Accident</td>\n",
       "      <td>NYC07LA005</td>\n",
       "      <td>1974-08-30</td>\n",
       "      <td>Saltville, VA</td>\n",
       "      <td>United States</td>\n",
       "      <td>36.9222</td>\n",
       "      <td>-81.8781</td>\n",
       "      <td>NaN</td>\n",
       "      <td>NaN</td>\n",
       "      <td>...</td>\n",
       "      <td>Personal</td>\n",
       "      <td>NaN</td>\n",
       "      <td>3.0</td>\n",
       "      <td>NaN</td>\n",
       "      <td>NaN</td>\n",
       "      <td>NaN</td>\n",
       "      <td>IMC</td>\n",
       "      <td>Cruise</td>\n",
       "      <td>Probable Cause</td>\n",
       "      <td>26-02-2007</td>\n",
       "    </tr>\n",
       "    <tr>\n",
       "      <th>3</th>\n",
       "      <td>20001218X45448</td>\n",
       "      <td>Accident</td>\n",
       "      <td>LAX96LA321</td>\n",
       "      <td>1977-06-19</td>\n",
       "      <td>EUREKA, CA</td>\n",
       "      <td>United States</td>\n",
       "      <td>NaN</td>\n",
       "      <td>NaN</td>\n",
       "      <td>NaN</td>\n",
       "      <td>NaN</td>\n",
       "      <td>...</td>\n",
       "      <td>Personal</td>\n",
       "      <td>NaN</td>\n",
       "      <td>2.0</td>\n",
       "      <td>0.0</td>\n",
       "      <td>0.0</td>\n",
       "      <td>0.0</td>\n",
       "      <td>IMC</td>\n",
       "      <td>Cruise</td>\n",
       "      <td>Probable Cause</td>\n",
       "      <td>12-09-2000</td>\n",
       "    </tr>\n",
       "    <tr>\n",
       "      <th>4</th>\n",
       "      <td>20041105X01764</td>\n",
       "      <td>Accident</td>\n",
       "      <td>CHI79FA064</td>\n",
       "      <td>1979-08-02</td>\n",
       "      <td>Canton, OH</td>\n",
       "      <td>United States</td>\n",
       "      <td>NaN</td>\n",
       "      <td>NaN</td>\n",
       "      <td>NaN</td>\n",
       "      <td>NaN</td>\n",
       "      <td>...</td>\n",
       "      <td>Personal</td>\n",
       "      <td>NaN</td>\n",
       "      <td>1.0</td>\n",
       "      <td>2.0</td>\n",
       "      <td>NaN</td>\n",
       "      <td>0.0</td>\n",
       "      <td>VMC</td>\n",
       "      <td>Approach</td>\n",
       "      <td>Probable Cause</td>\n",
       "      <td>16-04-1980</td>\n",
       "    </tr>\n",
       "    <tr>\n",
       "      <th>...</th>\n",
       "      <td>...</td>\n",
       "      <td>...</td>\n",
       "      <td>...</td>\n",
       "      <td>...</td>\n",
       "      <td>...</td>\n",
       "      <td>...</td>\n",
       "      <td>...</td>\n",
       "      <td>...</td>\n",
       "      <td>...</td>\n",
       "      <td>...</td>\n",
       "      <td>...</td>\n",
       "      <td>...</td>\n",
       "      <td>...</td>\n",
       "      <td>...</td>\n",
       "      <td>...</td>\n",
       "      <td>...</td>\n",
       "      <td>...</td>\n",
       "      <td>...</td>\n",
       "      <td>...</td>\n",
       "      <td>...</td>\n",
       "      <td>...</td>\n",
       "    </tr>\n",
       "    <tr>\n",
       "      <th>90343</th>\n",
       "      <td>20221227106491</td>\n",
       "      <td>Accident</td>\n",
       "      <td>ERA23LA093</td>\n",
       "      <td>2022-12-26</td>\n",
       "      <td>Annapolis, MD</td>\n",
       "      <td>United States</td>\n",
       "      <td>NaN</td>\n",
       "      <td>NaN</td>\n",
       "      <td>NaN</td>\n",
       "      <td>NaN</td>\n",
       "      <td>...</td>\n",
       "      <td>Personal</td>\n",
       "      <td>NaN</td>\n",
       "      <td>0.0</td>\n",
       "      <td>1.0</td>\n",
       "      <td>0.0</td>\n",
       "      <td>0.0</td>\n",
       "      <td>NaN</td>\n",
       "      <td>NaN</td>\n",
       "      <td>NaN</td>\n",
       "      <td>29-12-2022</td>\n",
       "    </tr>\n",
       "    <tr>\n",
       "      <th>90344</th>\n",
       "      <td>20221227106494</td>\n",
       "      <td>Accident</td>\n",
       "      <td>ERA23LA095</td>\n",
       "      <td>2022-12-26</td>\n",
       "      <td>Hampton, NH</td>\n",
       "      <td>United States</td>\n",
       "      <td>NaN</td>\n",
       "      <td>NaN</td>\n",
       "      <td>NaN</td>\n",
       "      <td>NaN</td>\n",
       "      <td>...</td>\n",
       "      <td>NaN</td>\n",
       "      <td>NaN</td>\n",
       "      <td>0.0</td>\n",
       "      <td>0.0</td>\n",
       "      <td>0.0</td>\n",
       "      <td>0.0</td>\n",
       "      <td>NaN</td>\n",
       "      <td>NaN</td>\n",
       "      <td>NaN</td>\n",
       "      <td>NaN</td>\n",
       "    </tr>\n",
       "    <tr>\n",
       "      <th>90345</th>\n",
       "      <td>20221227106497</td>\n",
       "      <td>Accident</td>\n",
       "      <td>WPR23LA075</td>\n",
       "      <td>2022-12-26</td>\n",
       "      <td>Payson, AZ</td>\n",
       "      <td>United States</td>\n",
       "      <td>341525N</td>\n",
       "      <td>1112021W</td>\n",
       "      <td>PAN</td>\n",
       "      <td>PAYSON</td>\n",
       "      <td>...</td>\n",
       "      <td>Personal</td>\n",
       "      <td>NaN</td>\n",
       "      <td>0.0</td>\n",
       "      <td>0.0</td>\n",
       "      <td>0.0</td>\n",
       "      <td>1.0</td>\n",
       "      <td>VMC</td>\n",
       "      <td>NaN</td>\n",
       "      <td>NaN</td>\n",
       "      <td>27-12-2022</td>\n",
       "    </tr>\n",
       "    <tr>\n",
       "      <th>90346</th>\n",
       "      <td>20221227106498</td>\n",
       "      <td>Accident</td>\n",
       "      <td>WPR23LA076</td>\n",
       "      <td>2022-12-26</td>\n",
       "      <td>Morgan, UT</td>\n",
       "      <td>United States</td>\n",
       "      <td>NaN</td>\n",
       "      <td>NaN</td>\n",
       "      <td>NaN</td>\n",
       "      <td>NaN</td>\n",
       "      <td>...</td>\n",
       "      <td>Personal</td>\n",
       "      <td>MC CESSNA 210N LLC</td>\n",
       "      <td>0.0</td>\n",
       "      <td>0.0</td>\n",
       "      <td>0.0</td>\n",
       "      <td>0.0</td>\n",
       "      <td>NaN</td>\n",
       "      <td>NaN</td>\n",
       "      <td>NaN</td>\n",
       "      <td>NaN</td>\n",
       "    </tr>\n",
       "    <tr>\n",
       "      <th>90347</th>\n",
       "      <td>20221230106513</td>\n",
       "      <td>Accident</td>\n",
       "      <td>ERA23LA097</td>\n",
       "      <td>2022-12-29</td>\n",
       "      <td>Athens, GA</td>\n",
       "      <td>United States</td>\n",
       "      <td>NaN</td>\n",
       "      <td>NaN</td>\n",
       "      <td>NaN</td>\n",
       "      <td>NaN</td>\n",
       "      <td>...</td>\n",
       "      <td>Personal</td>\n",
       "      <td>NaN</td>\n",
       "      <td>0.0</td>\n",
       "      <td>1.0</td>\n",
       "      <td>0.0</td>\n",
       "      <td>1.0</td>\n",
       "      <td>NaN</td>\n",
       "      <td>NaN</td>\n",
       "      <td>NaN</td>\n",
       "      <td>30-12-2022</td>\n",
       "    </tr>\n",
       "  </tbody>\n",
       "</table>\n",
       "<p>90348 rows × 31 columns</p>\n",
       "</div>"
      ],
      "text/plain": [
       "             Event.Id Investigation.Type Accident.Number  Event.Date  \\\n",
       "0      20001218X45444           Accident      SEA87LA080  1948-10-24   \n",
       "1      20001218X45447           Accident      LAX94LA336  1962-07-19   \n",
       "2      20061025X01555           Accident      NYC07LA005  1974-08-30   \n",
       "3      20001218X45448           Accident      LAX96LA321  1977-06-19   \n",
       "4      20041105X01764           Accident      CHI79FA064  1979-08-02   \n",
       "...               ...                ...             ...         ...   \n",
       "90343  20221227106491           Accident      ERA23LA093  2022-12-26   \n",
       "90344  20221227106494           Accident      ERA23LA095  2022-12-26   \n",
       "90345  20221227106497           Accident      WPR23LA075  2022-12-26   \n",
       "90346  20221227106498           Accident      WPR23LA076  2022-12-26   \n",
       "90347  20221230106513           Accident      ERA23LA097  2022-12-29   \n",
       "\n",
       "              Location        Country Latitude Longitude Airport.Code  \\\n",
       "0      MOOSE CREEK, ID  United States      NaN       NaN          NaN   \n",
       "1       BRIDGEPORT, CA  United States      NaN       NaN          NaN   \n",
       "2        Saltville, VA  United States  36.9222  -81.8781          NaN   \n",
       "3           EUREKA, CA  United States      NaN       NaN          NaN   \n",
       "4           Canton, OH  United States      NaN       NaN          NaN   \n",
       "...                ...            ...      ...       ...          ...   \n",
       "90343    Annapolis, MD  United States      NaN       NaN          NaN   \n",
       "90344      Hampton, NH  United States      NaN       NaN          NaN   \n",
       "90345       Payson, AZ  United States  341525N  1112021W          PAN   \n",
       "90346       Morgan, UT  United States      NaN       NaN          NaN   \n",
       "90347       Athens, GA  United States      NaN       NaN          NaN   \n",
       "\n",
       "      Airport.Name  ... Purpose.of.flight         Air.carrier  \\\n",
       "0              NaN  ...          Personal                 NaN   \n",
       "1              NaN  ...          Personal                 NaN   \n",
       "2              NaN  ...          Personal                 NaN   \n",
       "3              NaN  ...          Personal                 NaN   \n",
       "4              NaN  ...          Personal                 NaN   \n",
       "...            ...  ...               ...                 ...   \n",
       "90343          NaN  ...          Personal                 NaN   \n",
       "90344          NaN  ...               NaN                 NaN   \n",
       "90345       PAYSON  ...          Personal                 NaN   \n",
       "90346          NaN  ...          Personal  MC CESSNA 210N LLC   \n",
       "90347          NaN  ...          Personal                 NaN   \n",
       "\n",
       "      Total.Fatal.Injuries Total.Serious.Injuries Total.Minor.Injuries  \\\n",
       "0                      2.0                    0.0                  0.0   \n",
       "1                      4.0                    0.0                  0.0   \n",
       "2                      3.0                    NaN                  NaN   \n",
       "3                      2.0                    0.0                  0.0   \n",
       "4                      1.0                    2.0                  NaN   \n",
       "...                    ...                    ...                  ...   \n",
       "90343                  0.0                    1.0                  0.0   \n",
       "90344                  0.0                    0.0                  0.0   \n",
       "90345                  0.0                    0.0                  0.0   \n",
       "90346                  0.0                    0.0                  0.0   \n",
       "90347                  0.0                    1.0                  0.0   \n",
       "\n",
       "      Total.Uninjured Weather.Condition  Broad.phase.of.flight  \\\n",
       "0                 0.0               UNK                 Cruise   \n",
       "1                 0.0               UNK                Unknown   \n",
       "2                 NaN               IMC                 Cruise   \n",
       "3                 0.0               IMC                 Cruise   \n",
       "4                 0.0               VMC               Approach   \n",
       "...               ...               ...                    ...   \n",
       "90343             0.0               NaN                    NaN   \n",
       "90344             0.0               NaN                    NaN   \n",
       "90345             1.0               VMC                    NaN   \n",
       "90346             0.0               NaN                    NaN   \n",
       "90347             1.0               NaN                    NaN   \n",
       "\n",
       "        Report.Status Publication.Date  \n",
       "0      Probable Cause              NaN  \n",
       "1      Probable Cause       19-09-1996  \n",
       "2      Probable Cause       26-02-2007  \n",
       "3      Probable Cause       12-09-2000  \n",
       "4      Probable Cause       16-04-1980  \n",
       "...               ...              ...  \n",
       "90343             NaN       29-12-2022  \n",
       "90344             NaN              NaN  \n",
       "90345             NaN       27-12-2022  \n",
       "90346             NaN              NaN  \n",
       "90347             NaN       30-12-2022  \n",
       "\n",
       "[90348 rows x 31 columns]"
      ]
     },
     "execution_count": 541,
     "metadata": {},
     "output_type": "execute_result"
    }
   ],
   "source": [
    "df"
   ]
  },
  {
   "cell_type": "code",
   "execution_count": 542,
   "metadata": {
    "scrolled": true
   },
   "outputs": [
    {
     "name": "stdout",
     "output_type": "stream",
     "text": [
      "<class 'pandas.core.frame.DataFrame'>\n",
      "RangeIndex: 90348 entries, 0 to 90347\n",
      "Data columns (total 31 columns):\n",
      " #   Column                  Non-Null Count  Dtype  \n",
      "---  ------                  --------------  -----  \n",
      " 0   Event.Id                88889 non-null  object \n",
      " 1   Investigation.Type      90348 non-null  object \n",
      " 2   Accident.Number         88889 non-null  object \n",
      " 3   Event.Date              88889 non-null  object \n",
      " 4   Location                88837 non-null  object \n",
      " 5   Country                 88663 non-null  object \n",
      " 6   Latitude                34382 non-null  object \n",
      " 7   Longitude               34373 non-null  object \n",
      " 8   Airport.Code            50249 non-null  object \n",
      " 9   Airport.Name            52790 non-null  object \n",
      " 10  Injury.Severity         87889 non-null  object \n",
      " 11  Aircraft.damage         85695 non-null  object \n",
      " 12  Aircraft.Category       32287 non-null  object \n",
      " 13  Registration.Number     87572 non-null  object \n",
      " 14  Make                    88826 non-null  object \n",
      " 15  Model                   88797 non-null  object \n",
      " 16  Amateur.Built           88787 non-null  object \n",
      " 17  Number.of.Engines       82805 non-null  float64\n",
      " 18  Engine.Type             81812 non-null  object \n",
      " 19  FAR.Description         32023 non-null  object \n",
      " 20  Schedule                12582 non-null  object \n",
      " 21  Purpose.of.flight       82697 non-null  object \n",
      " 22  Air.carrier             16648 non-null  object \n",
      " 23  Total.Fatal.Injuries    77488 non-null  float64\n",
      " 24  Total.Serious.Injuries  76379 non-null  float64\n",
      " 25  Total.Minor.Injuries    76956 non-null  float64\n",
      " 26  Total.Uninjured         82977 non-null  float64\n",
      " 27  Weather.Condition       84397 non-null  object \n",
      " 28  Broad.phase.of.flight   61724 non-null  object \n",
      " 29  Report.Status           82508 non-null  object \n",
      " 30  Publication.Date        73659 non-null  object \n",
      "dtypes: float64(5), object(26)\n",
      "memory usage: 21.4+ MB\n"
     ]
    }
   ],
   "source": [
    "#loooking to get an understating of all my subcategories\n",
    "df.info()"
   ]
  },
  {
   "cell_type": "code",
   "execution_count": 543,
   "metadata": {},
   "outputs": [
    {
     "data": {
      "text/html": [
       "<div>\n",
       "<style scoped>\n",
       "    .dataframe tbody tr th:only-of-type {\n",
       "        vertical-align: middle;\n",
       "    }\n",
       "\n",
       "    .dataframe tbody tr th {\n",
       "        vertical-align: top;\n",
       "    }\n",
       "\n",
       "    .dataframe thead th {\n",
       "        text-align: right;\n",
       "    }\n",
       "</style>\n",
       "<table border=\"1\" class=\"dataframe\">\n",
       "  <thead>\n",
       "    <tr style=\"text-align: right;\">\n",
       "      <th></th>\n",
       "      <th>Number.of.Engines</th>\n",
       "      <th>Total.Fatal.Injuries</th>\n",
       "      <th>Total.Serious.Injuries</th>\n",
       "      <th>Total.Minor.Injuries</th>\n",
       "      <th>Total.Uninjured</th>\n",
       "    </tr>\n",
       "  </thead>\n",
       "  <tbody>\n",
       "    <tr>\n",
       "      <th>count</th>\n",
       "      <td>82805.000000</td>\n",
       "      <td>77488.000000</td>\n",
       "      <td>76379.000000</td>\n",
       "      <td>76956.000000</td>\n",
       "      <td>82977.000000</td>\n",
       "    </tr>\n",
       "    <tr>\n",
       "      <th>mean</th>\n",
       "      <td>1.146585</td>\n",
       "      <td>0.647855</td>\n",
       "      <td>0.279881</td>\n",
       "      <td>0.357061</td>\n",
       "      <td>5.325440</td>\n",
       "    </tr>\n",
       "    <tr>\n",
       "      <th>std</th>\n",
       "      <td>0.446510</td>\n",
       "      <td>5.485960</td>\n",
       "      <td>1.544084</td>\n",
       "      <td>2.235625</td>\n",
       "      <td>27.913634</td>\n",
       "    </tr>\n",
       "    <tr>\n",
       "      <th>min</th>\n",
       "      <td>0.000000</td>\n",
       "      <td>0.000000</td>\n",
       "      <td>0.000000</td>\n",
       "      <td>0.000000</td>\n",
       "      <td>0.000000</td>\n",
       "    </tr>\n",
       "    <tr>\n",
       "      <th>25%</th>\n",
       "      <td>1.000000</td>\n",
       "      <td>0.000000</td>\n",
       "      <td>0.000000</td>\n",
       "      <td>0.000000</td>\n",
       "      <td>0.000000</td>\n",
       "    </tr>\n",
       "    <tr>\n",
       "      <th>50%</th>\n",
       "      <td>1.000000</td>\n",
       "      <td>0.000000</td>\n",
       "      <td>0.000000</td>\n",
       "      <td>0.000000</td>\n",
       "      <td>1.000000</td>\n",
       "    </tr>\n",
       "    <tr>\n",
       "      <th>75%</th>\n",
       "      <td>1.000000</td>\n",
       "      <td>0.000000</td>\n",
       "      <td>0.000000</td>\n",
       "      <td>0.000000</td>\n",
       "      <td>2.000000</td>\n",
       "    </tr>\n",
       "    <tr>\n",
       "      <th>max</th>\n",
       "      <td>8.000000</td>\n",
       "      <td>349.000000</td>\n",
       "      <td>161.000000</td>\n",
       "      <td>380.000000</td>\n",
       "      <td>699.000000</td>\n",
       "    </tr>\n",
       "  </tbody>\n",
       "</table>\n",
       "</div>"
      ],
      "text/plain": [
       "       Number.of.Engines  Total.Fatal.Injuries  Total.Serious.Injuries  \\\n",
       "count       82805.000000          77488.000000            76379.000000   \n",
       "mean            1.146585              0.647855                0.279881   \n",
       "std             0.446510              5.485960                1.544084   \n",
       "min             0.000000              0.000000                0.000000   \n",
       "25%             1.000000              0.000000                0.000000   \n",
       "50%             1.000000              0.000000                0.000000   \n",
       "75%             1.000000              0.000000                0.000000   \n",
       "max             8.000000            349.000000              161.000000   \n",
       "\n",
       "       Total.Minor.Injuries  Total.Uninjured  \n",
       "count          76956.000000     82977.000000  \n",
       "mean               0.357061         5.325440  \n",
       "std                2.235625        27.913634  \n",
       "min                0.000000         0.000000  \n",
       "25%                0.000000         0.000000  \n",
       "50%                0.000000         1.000000  \n",
       "75%                0.000000         2.000000  \n",
       "max              380.000000       699.000000  "
      ]
     },
     "execution_count": 543,
     "metadata": {},
     "output_type": "execute_result"
    }
   ],
   "source": [
    "#looking to see what is the vital importance to my data set\n",
    "df.describe()"
   ]
  },
  {
   "cell_type": "code",
   "execution_count": 544,
   "metadata": {
    "scrolled": true
   },
   "outputs": [
    {
     "data": {
      "text/plain": [
       "Landing        15428\n",
       "Takeoff        12493\n",
       "Cruise         10269\n",
       "Maneuvering     8144\n",
       "Approach        6546\n",
       "Climb           2034\n",
       "Taxi            1958\n",
       "Descent         1887\n",
       "Go-around       1353\n",
       "Standing         945\n",
       "Unknown          548\n",
       "Other            119\n",
       "Name: Broad.phase.of.flight, dtype: int64"
      ]
     },
     "execution_count": 544,
     "metadata": {},
     "output_type": "execute_result"
    }
   ],
   "source": [
    "df['Broad.phase.of.flight'].value_counts()"
   ]
  },
  {
   "cell_type": "code",
   "execution_count": 545,
   "metadata": {},
   "outputs": [
    {
     "data": {
      "text/plain": [
       "Index(['Event.Id', 'Investigation.Type', 'Accident.Number', 'Event.Date',\n",
       "       'Location', 'Country', 'Latitude', 'Longitude', 'Airport.Code',\n",
       "       'Airport.Name', 'Injury.Severity', 'Aircraft.damage',\n",
       "       'Aircraft.Category', 'Registration.Number', 'Make', 'Model',\n",
       "       'Amateur.Built', 'Number.of.Engines', 'Engine.Type', 'FAR.Description',\n",
       "       'Schedule', 'Purpose.of.flight', 'Air.carrier', 'Total.Fatal.Injuries',\n",
       "       'Total.Serious.Injuries', 'Total.Minor.Injuries', 'Total.Uninjured',\n",
       "       'Weather.Condition', 'Broad.phase.of.flight', 'Report.Status',\n",
       "       'Publication.Date'],\n",
       "      dtype='object')"
      ]
     },
     "execution_count": 545,
     "metadata": {},
     "output_type": "execute_result"
    }
   ],
   "source": [
    "df.keys()"
   ]
  },
  {
   "cell_type": "code",
   "execution_count": 546,
   "metadata": {},
   "outputs": [
    {
     "data": {
      "text/plain": [
       "Event.Id                   1459\n",
       "Investigation.Type            0\n",
       "Accident.Number            1459\n",
       "Event.Date                 1459\n",
       "Location                   1511\n",
       "Country                    1685\n",
       "Latitude                  55966\n",
       "Longitude                 55975\n",
       "Airport.Code              40099\n",
       "Airport.Name              37558\n",
       "Injury.Severity            2459\n",
       "Aircraft.damage            4653\n",
       "Aircraft.Category         58061\n",
       "Registration.Number        2776\n",
       "Make                       1522\n",
       "Model                      1551\n",
       "Amateur.Built              1561\n",
       "Number.of.Engines          7543\n",
       "Engine.Type                8536\n",
       "FAR.Description           58325\n",
       "Schedule                  77766\n",
       "Purpose.of.flight          7651\n",
       "Air.carrier               73700\n",
       "Total.Fatal.Injuries      12860\n",
       "Total.Serious.Injuries    13969\n",
       "Total.Minor.Injuries      13392\n",
       "Total.Uninjured            7371\n",
       "Weather.Condition          5951\n",
       "Broad.phase.of.flight     28624\n",
       "Report.Status              7840\n",
       "Publication.Date          16689\n",
       "dtype: int64"
      ]
     },
     "execution_count": 546,
     "metadata": {},
     "output_type": "execute_result"
    }
   ],
   "source": [
    "#Looking to find any null values \n",
    "df.isnull().sum()"
   ]
  },
  {
   "cell_type": "markdown",
   "metadata": {},
   "source": [
    "# Starting to clean data"
   ]
  },
  {
   "cell_type": "code",
   "execution_count": 547,
   "metadata": {},
   "outputs": [
    {
     "data": {
      "text/plain": [
       "Cessna                            22227\n",
       "Piper                             12029\n",
       "CESSNA                             4922\n",
       "Beech                              4330\n",
       "PIPER                              2841\n",
       "                                  ...  \n",
       "Tennessee Engineering & Manf          1\n",
       "Renninger                             1\n",
       "BUCKEYE POWERED PARACHUTES INC        1\n",
       "VANEK JIM                             1\n",
       "Cruiser                               1\n",
       "Name: Make, Length: 8237, dtype: int64"
      ]
     },
     "execution_count": 547,
     "metadata": {},
     "output_type": "execute_result"
    }
   ],
   "source": [
    "df['Make'].value_counts()"
   ]
  },
  {
   "cell_type": "code",
   "execution_count": 548,
   "metadata": {},
   "outputs": [],
   "source": [
    "df['Number.of.Engines'].fillna(1, inplace=True)\n",
    "df['Number.of.Engines'].replace(0, 1, inplace=True)\n"
   ]
  },
  {
   "cell_type": "code",
   "execution_count": 549,
   "metadata": {},
   "outputs": [
    {
     "name": "stdout",
     "output_type": "stream",
     "text": [
      "             Event.Id Investigation.Type Accident.Number  Event.Date  \\\n",
      "0      20001218X45444           Accident      SEA87LA080  1948-10-24   \n",
      "1      20001218X45447           Accident      LAX94LA336  1962-07-19   \n",
      "2      20061025X01555           Accident      NYC07LA005  1974-08-30   \n",
      "3      20001218X45448           Accident      LAX96LA321  1977-06-19   \n",
      "4      20041105X01764           Accident      CHI79FA064  1979-08-02   \n",
      "...               ...                ...             ...         ...   \n",
      "19070  20221206106422           Accident      CEN23LA061  2022-12-05   \n",
      "19071  20221212106439           Accident      DCA23LA093  2022-12-08   \n",
      "19072  20221213106456           Accident      WPR23LA066  2022-12-12   \n",
      "19073  20221227106496           Accident      WPR23LA074  2022-12-17   \n",
      "19074  20221219106472           Accident      DCA23LA096  2022-12-18   \n",
      "\n",
      "              Location        Country Latitude Longitude Airport.Code  \\\n",
      "0      MOOSE CREEK, ID  United States      NaN       NaN          NaN   \n",
      "1       BRIDGEPORT, CA  United States      NaN       NaN          NaN   \n",
      "2        Saltville, VA  United States  36.9222  -81.8781          NaN   \n",
      "3           EUREKA, CA  United States      NaN       NaN          NaN   \n",
      "4           Canton, OH  United States      NaN       NaN          NaN   \n",
      "...                ...            ...      ...       ...          ...   \n",
      "19070    St. Louis, MO  United States  384327N  0903034W          1H0   \n",
      "19071       Newark, NJ  United States      NaN       NaN          NaN   \n",
      "19072      Redding, CA  United States  039101N  0121410W          RDD   \n",
      "19073   Cottonwood, CA  United States      NaN       NaN          NaN   \n",
      "19074      Kahului, HI  United States      NaN       NaN          NaN   \n",
      "\n",
      "      Airport.Name  ... Purpose.of.flight                     Air.carrier  \\\n",
      "0              NaN  ...          Personal                             NaN   \n",
      "1              NaN  ...          Personal                             NaN   \n",
      "2              NaN  ...          Personal                             NaN   \n",
      "3              NaN  ...          Personal                             NaN   \n",
      "4              NaN  ...          Personal                             NaN   \n",
      "...            ...  ...               ...                             ...   \n",
      "19070  CREVE COEUR  ...          Personal                             NaN   \n",
      "19071          NaN  ...               NaN                             NaN   \n",
      "19072          NaN  ...          Business  REACH AIR MEDICAL SERVICES LLC   \n",
      "19073          NaN  ...          Personal                             NaN   \n",
      "19074          NaN  ...               NaN           HAWAIIAN AIRLINES INC   \n",
      "\n",
      "      Total.Fatal.Injuries Total.Serious.Injuries Total.Minor.Injuries  \\\n",
      "0                      2.0                    0.0                  0.0   \n",
      "1                      4.0                    0.0                  0.0   \n",
      "2                      3.0                    NaN                  NaN   \n",
      "3                      2.0                    0.0                  0.0   \n",
      "4                      1.0                    2.0                  NaN   \n",
      "...                    ...                    ...                  ...   \n",
      "19070                  0.0                    2.0                  0.0   \n",
      "19071                  0.0                    3.0                  1.0   \n",
      "19072                  0.0                    1.0                  0.0   \n",
      "19073                  0.0                    1.0                  0.0   \n",
      "19074                  0.0                    0.0                  0.0   \n",
      "\n",
      "      Total.Uninjured Weather.Condition  Broad.phase.of.flight  \\\n",
      "0                 0.0               UNK                 Cruise   \n",
      "1                 0.0               UNK                Unknown   \n",
      "2                 NaN               IMC                 Cruise   \n",
      "3                 0.0               IMC                 Cruise   \n",
      "4                 0.0               VMC               Approach   \n",
      "...               ...               ...                    ...   \n",
      "19070             0.0               VMC                    NaN   \n",
      "19071           175.0               NaN                    NaN   \n",
      "19072             0.0               NaN                    NaN   \n",
      "19073             0.0               NaN                    NaN   \n",
      "19074             0.0               NaN                    NaN   \n",
      "\n",
      "        Report.Status Publication.Date  \n",
      "0      Probable Cause              NaN  \n",
      "1      Probable Cause       19-09-1996  \n",
      "2      Probable Cause       26-02-2007  \n",
      "3      Probable Cause       12-09-2000  \n",
      "4      Probable Cause       16-04-1980  \n",
      "...               ...              ...  \n",
      "19070             NaN       08-12-2022  \n",
      "19071             NaN       12-12-2022  \n",
      "19072             NaN       27-12-2022  \n",
      "19073             NaN       27-12-2022  \n",
      "19074             NaN              NaN  \n",
      "\n",
      "[19075 rows x 31 columns]\n"
     ]
    }
   ],
   "source": [
    "df['Make'] = df['Make'].str.lower()\n",
    "\n",
    "# Group by lowercase \"Make\" values and get the first original case-insensitive \"Make\" value\n",
    "combined_makes = df.groupby('Make')['Make'].transform('first')\n",
    "\n",
    "# Update the \"Make\" column with the combined lowercase \"Make\" values\n",
    "df['Make'] = combined_makes\n",
    "\n",
    "# Drop duplicate rows based on both lowercase \"Make\" and other columns\n",
    "df.drop_duplicates(subset=['Make', 'Model', 'Number.of.Engines'], inplace=True)\n",
    "\n",
    "# Reset index after modification\n",
    "df.reset_index(drop=True, inplace=True)\n",
    "\n",
    "# Print the modified DataFrame\n",
    "print(df)"
   ]
  },
  {
   "cell_type": "code",
   "execution_count": 550,
   "metadata": {},
   "outputs": [
    {
     "data": {
      "text/html": [
       "<div>\n",
       "<style scoped>\n",
       "    .dataframe tbody tr th:only-of-type {\n",
       "        vertical-align: middle;\n",
       "    }\n",
       "\n",
       "    .dataframe tbody tr th {\n",
       "        vertical-align: top;\n",
       "    }\n",
       "\n",
       "    .dataframe thead th {\n",
       "        text-align: right;\n",
       "    }\n",
       "</style>\n",
       "<table border=\"1\" class=\"dataframe\">\n",
       "  <thead>\n",
       "    <tr style=\"text-align: right;\">\n",
       "      <th></th>\n",
       "      <th>Event.Id</th>\n",
       "      <th>Investigation.Type</th>\n",
       "      <th>Accident.Number</th>\n",
       "      <th>Event.Date</th>\n",
       "      <th>Location</th>\n",
       "      <th>Country</th>\n",
       "      <th>Latitude</th>\n",
       "      <th>Longitude</th>\n",
       "      <th>Airport.Code</th>\n",
       "      <th>Airport.Name</th>\n",
       "      <th>...</th>\n",
       "      <th>Purpose.of.flight</th>\n",
       "      <th>Air.carrier</th>\n",
       "      <th>Total.Fatal.Injuries</th>\n",
       "      <th>Total.Serious.Injuries</th>\n",
       "      <th>Total.Minor.Injuries</th>\n",
       "      <th>Total.Uninjured</th>\n",
       "      <th>Weather.Condition</th>\n",
       "      <th>Broad.phase.of.flight</th>\n",
       "      <th>Report.Status</th>\n",
       "      <th>Publication.Date</th>\n",
       "    </tr>\n",
       "  </thead>\n",
       "  <tbody>\n",
       "    <tr>\n",
       "      <th>7</th>\n",
       "      <td>20020909X01562</td>\n",
       "      <td>Accident</td>\n",
       "      <td>SEA82DA022</td>\n",
       "      <td>1982-01-01</td>\n",
       "      <td>PULLMAN, WA</td>\n",
       "      <td>United States</td>\n",
       "      <td>NaN</td>\n",
       "      <td>NaN</td>\n",
       "      <td>NaN</td>\n",
       "      <td>BLACKBURN AG STRIP</td>\n",
       "      <td>...</td>\n",
       "      <td>Personal</td>\n",
       "      <td>NaN</td>\n",
       "      <td>0.0</td>\n",
       "      <td>0.0</td>\n",
       "      <td>0.0</td>\n",
       "      <td>2.0</td>\n",
       "      <td>VMC</td>\n",
       "      <td>Takeoff</td>\n",
       "      <td>Probable Cause</td>\n",
       "      <td>01-01-1982</td>\n",
       "    </tr>\n",
       "    <tr>\n",
       "      <th>8</th>\n",
       "      <td>20020909X01561</td>\n",
       "      <td>Accident</td>\n",
       "      <td>NYC82DA015</td>\n",
       "      <td>1982-01-01</td>\n",
       "      <td>EAST HANOVER, NJ</td>\n",
       "      <td>United States</td>\n",
       "      <td>NaN</td>\n",
       "      <td>NaN</td>\n",
       "      <td>N58</td>\n",
       "      <td>HANOVER</td>\n",
       "      <td>...</td>\n",
       "      <td>Business</td>\n",
       "      <td>NaN</td>\n",
       "      <td>0.0</td>\n",
       "      <td>0.0</td>\n",
       "      <td>0.0</td>\n",
       "      <td>2.0</td>\n",
       "      <td>IMC</td>\n",
       "      <td>Landing</td>\n",
       "      <td>Probable Cause</td>\n",
       "      <td>01-01-1982</td>\n",
       "    </tr>\n",
       "    <tr>\n",
       "      <th>9</th>\n",
       "      <td>20020909X01560</td>\n",
       "      <td>Accident</td>\n",
       "      <td>MIA82DA029</td>\n",
       "      <td>1982-01-01</td>\n",
       "      <td>JACKSONVILLE, FL</td>\n",
       "      <td>United States</td>\n",
       "      <td>NaN</td>\n",
       "      <td>NaN</td>\n",
       "      <td>JAX</td>\n",
       "      <td>JACKSONVILLE INTL</td>\n",
       "      <td>...</td>\n",
       "      <td>Personal</td>\n",
       "      <td>NaN</td>\n",
       "      <td>0.0</td>\n",
       "      <td>0.0</td>\n",
       "      <td>3.0</td>\n",
       "      <td>0.0</td>\n",
       "      <td>IMC</td>\n",
       "      <td>Cruise</td>\n",
       "      <td>Probable Cause</td>\n",
       "      <td>01-01-1982</td>\n",
       "    </tr>\n",
       "    <tr>\n",
       "      <th>10</th>\n",
       "      <td>20020909X01559</td>\n",
       "      <td>Accident</td>\n",
       "      <td>FTW82DA034</td>\n",
       "      <td>1982-01-01</td>\n",
       "      <td>HOBBS, NM</td>\n",
       "      <td>United States</td>\n",
       "      <td>NaN</td>\n",
       "      <td>NaN</td>\n",
       "      <td>NaN</td>\n",
       "      <td>NaN</td>\n",
       "      <td>...</td>\n",
       "      <td>Personal</td>\n",
       "      <td>NaN</td>\n",
       "      <td>0.0</td>\n",
       "      <td>0.0</td>\n",
       "      <td>0.0</td>\n",
       "      <td>1.0</td>\n",
       "      <td>VMC</td>\n",
       "      <td>Approach</td>\n",
       "      <td>Probable Cause</td>\n",
       "      <td>01-01-1982</td>\n",
       "    </tr>\n",
       "    <tr>\n",
       "      <th>11</th>\n",
       "      <td>20020909X01558</td>\n",
       "      <td>Accident</td>\n",
       "      <td>ATL82DKJ10</td>\n",
       "      <td>1982-01-01</td>\n",
       "      <td>TUSKEGEE, AL</td>\n",
       "      <td>United States</td>\n",
       "      <td>NaN</td>\n",
       "      <td>NaN</td>\n",
       "      <td>NaN</td>\n",
       "      <td>TUSKEGEE</td>\n",
       "      <td>...</td>\n",
       "      <td>Personal</td>\n",
       "      <td>NaN</td>\n",
       "      <td>0.0</td>\n",
       "      <td>0.0</td>\n",
       "      <td>0.0</td>\n",
       "      <td>1.0</td>\n",
       "      <td>VMC</td>\n",
       "      <td>Landing</td>\n",
       "      <td>Probable Cause</td>\n",
       "      <td>01-01-1982</td>\n",
       "    </tr>\n",
       "  </tbody>\n",
       "</table>\n",
       "<p>5 rows × 31 columns</p>\n",
       "</div>"
      ],
      "text/plain": [
       "          Event.Id Investigation.Type Accident.Number  Event.Date  \\\n",
       "7   20020909X01562           Accident      SEA82DA022  1982-01-01   \n",
       "8   20020909X01561           Accident      NYC82DA015  1982-01-01   \n",
       "9   20020909X01560           Accident      MIA82DA029  1982-01-01   \n",
       "10  20020909X01559           Accident      FTW82DA034  1982-01-01   \n",
       "11  20020909X01558           Accident      ATL82DKJ10  1982-01-01   \n",
       "\n",
       "            Location        Country Latitude Longitude Airport.Code  \\\n",
       "7        PULLMAN, WA  United States      NaN       NaN          NaN   \n",
       "8   EAST HANOVER, NJ  United States      NaN       NaN          N58   \n",
       "9   JACKSONVILLE, FL  United States      NaN       NaN          JAX   \n",
       "10         HOBBS, NM  United States      NaN       NaN          NaN   \n",
       "11      TUSKEGEE, AL  United States      NaN       NaN          NaN   \n",
       "\n",
       "          Airport.Name  ... Purpose.of.flight Air.carrier  \\\n",
       "7   BLACKBURN AG STRIP  ...          Personal         NaN   \n",
       "8              HANOVER  ...          Business         NaN   \n",
       "9    JACKSONVILLE INTL  ...          Personal         NaN   \n",
       "10                 NaN  ...          Personal         NaN   \n",
       "11            TUSKEGEE  ...          Personal         NaN   \n",
       "\n",
       "   Total.Fatal.Injuries Total.Serious.Injuries Total.Minor.Injuries  \\\n",
       "7                   0.0                    0.0                  0.0   \n",
       "8                   0.0                    0.0                  0.0   \n",
       "9                   0.0                    0.0                  3.0   \n",
       "10                  0.0                    0.0                  0.0   \n",
       "11                  0.0                    0.0                  0.0   \n",
       "\n",
       "   Total.Uninjured Weather.Condition  Broad.phase.of.flight   Report.Status  \\\n",
       "7              2.0               VMC                Takeoff  Probable Cause   \n",
       "8              2.0               IMC                Landing  Probable Cause   \n",
       "9              0.0               IMC                 Cruise  Probable Cause   \n",
       "10             1.0               VMC               Approach  Probable Cause   \n",
       "11             1.0               VMC                Landing  Probable Cause   \n",
       "\n",
       "   Publication.Date  \n",
       "7        01-01-1982  \n",
       "8        01-01-1982  \n",
       "9        01-01-1982  \n",
       "10       01-01-1982  \n",
       "11       01-01-1982  \n",
       "\n",
       "[5 rows x 31 columns]"
      ]
     },
     "execution_count": 550,
     "metadata": {},
     "output_type": "execute_result"
    }
   ],
   "source": [
    "df[df['Total.Fatal.Injuries']==0].head()"
   ]
  },
  {
   "cell_type": "code",
   "execution_count": 551,
   "metadata": {},
   "outputs": [],
   "source": [
    "dataclean= df.dropna(subset = ['Event.Id'], inplace = True)"
   ]
  },
  {
   "cell_type": "code",
   "execution_count": 552,
   "metadata": {},
   "outputs": [],
   "source": [
    "models_by_make = df.groupby('Make')['Model'].unique()\n",
    "\n",
    "# Print the \"Models\" for each \"Make\"\n",
    "for make, models in models_by_make.items():\n",
    "    models_str = [str(model) for model in models]  # Convert models to strings\n"
   ]
  },
  {
   "cell_type": "code",
   "execution_count": 553,
   "metadata": {},
   "outputs": [],
   "source": [
    "import datetime\n",
    "df['Event.Date'] = pd.to_datetime(df['Event.Date'])\n",
    "df['Year'] = df['Event.Date'].dt.year\n",
    "df['Month.Abbr'] = df['Event.Date'].dt.month_name().str[:3]\n",
    "df['Day.Abbr'] = df['Event.Date'].dt.day_name().str[:3]\n",
    "df = df[df['Year'] >= 1982]"
   ]
  },
  {
   "cell_type": "code",
   "execution_count": 554,
   "metadata": {},
   "outputs": [
    {
     "data": {
      "text/plain": [
       "cessna               899\n",
       "piper                723\n",
       "boeing               651\n",
       "beech                604\n",
       "bell                 306\n",
       "mcdonnell douglas    165\n",
       "schweizer            146\n",
       "aerospatiale         142\n",
       "de havilland         121\n",
       "north american       116\n",
       "douglas              115\n",
       "grumman              112\n",
       "maule                112\n",
       "embraer              109\n",
       "sikorsky             108\n",
       "aero commander       101\n",
       "airbus                92\n",
       "aeronca               89\n",
       "airbus industrie      88\n",
       "bellanca              84\n",
       "Name: Make, dtype: int64"
      ]
     },
     "execution_count": 554,
     "metadata": {},
     "output_type": "execute_result"
    }
   ],
   "source": [
    "df['Make'].value_counts().sort_values(ascending=False).head(20)"
   ]
  },
  {
   "cell_type": "code",
   "execution_count": 555,
   "metadata": {},
   "outputs": [
    {
     "data": {
      "text/plain": [
       "United States     17346\n",
       "United Kingdom      112\n",
       "Brazil               96\n",
       "Canada               93\n",
       "France               75\n",
       "Australia            72\n",
       "Mexico               71\n",
       "Germany              70\n",
       "Colombia             55\n",
       "Spain                53\n",
       "Name: Country, dtype: int64"
      ]
     },
     "execution_count": 555,
     "metadata": {},
     "output_type": "execute_result"
    }
   ],
   "source": [
    "co=df['Country'].value_counts().sort_values(ascending=False).head(10)\n",
    "co"
   ]
  },
  {
   "cell_type": "code",
   "execution_count": 556,
   "metadata": {},
   "outputs": [],
   "source": [
    "df['Country']= df['Country'].fillna('United States')"
   ]
  },
  {
   "cell_type": "markdown",
   "metadata": {},
   "source": [
    "# Graphing data "
   ]
  },
  {
   "cell_type": "markdown",
   "metadata": {},
   "source": []
  },
  {
   "cell_type": "code",
   "execution_count": 557,
   "metadata": {},
   "outputs": [
    {
     "data": {
      "text/plain": [
       "[Text(0, 0.5, 'Accident Count 1940 - 2020')]"
      ]
     },
     "execution_count": 557,
     "metadata": {},
     "output_type": "execute_result"
    },
    {
     "data": {
      "image/png": "[encoded data removed]",
      "text/plain": [
       "<Figure size 1296x504 with 2 Axes>"
      ]
     },
     "metadata": {
      "needs_background": "light"
     },
     "output_type": "display_data"
    }
   ],
   "source": [
    "fig = plt.figure(figsize = (18,7))\n",
    "\n",
    "fig.add_subplot(1,2,1)\n",
    "sns.countplot(x = 'Make', \n",
    "              data  =  df.dropna(subset = ['Number.of.Engines']), \n",
    "              hue = 'Number.of.Engines',\n",
    "              order = df['Make'].value_counts()[0:9].index)\n",
    "plt.xticks(rotation  =  90)\n",
    "plt.xlabel('Make')\n",
    "plt.ylabel(\"Accident Count 1940 - 2020\")\n",
    "plt.title(\"Engine to Accident\")\n",
    "\n",
    "fig.add_subplot(1,2,2)\n",
    "sns.distplot(a = df['Number.of.Engines'].dropna(), kde=False).set(ylabel = \"Accident Count 1940 - 2020\")"
   ]
  },
  {
   "cell_type": "code",
   "execution_count": 558,
   "metadata": {},
   "outputs": [],
   "source": [
    "histo_features = ['Injury.Severity','Aircraft.damage','Aircraft.Category', 'Make','Amateur.Built','Number.of.Engines','Engine.Type',\n",
    "            'FAR.Description','Purpose.of.flight','Weather.Condition','Broad.phase.of.flight']\n",
    "histo_obj =[x  for x in histo_features if df[x].dtypes == 'object']\n",
    "histo_num =[x  for x in histo_features if df[x].dtypes != 'object']"
   ]
  },
  {
   "cell_type": "code",
   "execution_count": 559,
   "metadata": {},
   "outputs": [
    {
     "data": {
      "image/png": "[encoded data removed]",
      "text/plain": [
       "<Figure size 864x2448 with 11 Axes>"
      ]
     },
     "metadata": {
      "needs_background": "light"
     },
     "output_type": "display_data"
    }
   ],
   "source": [
    "fig  = plt.figure(figsize = (12,34))\n",
    "for x in  histo_features:\n",
    "    fig.add_subplot(6,2, histo_features.index(x)+1)\n",
    "    if len(df[x].value_counts()) >10:\n",
    "        sns.countplot(x = df[x].dropna(), \n",
    "                      data  =  df, \n",
    "                      order = df[x].value_counts()[0:9].index).set(xlabel= x, \n",
    "                                                                     ylabel = \"Accident Count 1940 - 2020\")\n",
    "        plt.xticks(rotation=90)\n",
    "    else:\n",
    "        sns.countplot(x = df[x].dropna(), \n",
    "                      data  =  df).set(xlabel= x, \n",
    "                                         ylabel = \"Accident Count 1940 - 2020\")\n",
    "        plt.xticks(rotation=90)\n",
    "plt.tight_layout()\n",
    "plt.show()"
   ]
  },
  {
   "cell_type": "code",
   "execution_count": 560,
   "metadata": {},
   "outputs": [
    {
     "data": {
      "image/png": "[encoded data removed]",
      "text/plain": [
       "<Figure size 864x432 with 1 Axes>"
      ]
     },
     "metadata": {
      "needs_background": "light"
     },
     "output_type": "display_data"
    }
   ],
   "source": [
    "filtered_df = df.dropna(subset=['Make'])\n",
    "\n",
    "# Get the ten most common makes\n",
    "top_makes = filtered_df['Make'].value_counts().head(10)\n",
    "\n",
    "# Create a bar plot\n",
    "plt.figure(figsize=(12, 6))\n",
    "top_makes.sort_values().plot(kind='bar', color='skyblue')\n",
    "plt.title('Top 10 Most Common Makes')\n",
    "plt.xlabel('Make')\n",
    "plt.ylabel('Count')\n",
    "plt.xticks(rotation=45)\n",
    "plt.tight_layout()\n",
    "plt.show()"
   ]
  },
  {
   "cell_type": "markdown",
   "metadata": {},
   "source": [
    "  In the data provided above I have conclude that the best airplanes to buy are those with mulitple enginers. The planes with more engines are safer  "
   ]
  },
  {
   "cell_type": "markdown",
   "metadata": {},
   "source": [
    "# Which aircrafts have more engines? "
   ]
  },
  {
   "cell_type": "code",
   "execution_count": 561,
   "metadata": {},
   "outputs": [
    {
     "data": {
      "text/plain": [
       "Make\n",
       "107.5 flying corporation    1.0\n",
       "1200                        1.0\n",
       "177mf llc                   1.0\n",
       "1977 colfer-chan            1.0\n",
       "1st ftr gp                  1.0\n",
       "                           ... \n",
       "zubair s khan               1.0\n",
       "zuber thomas p              1.0\n",
       "zukowski                    1.0\n",
       "zwart                       1.0\n",
       "zwicker murray r            1.0\n",
       "Name: Number.of.Engines, Length: 7587, dtype: float64"
      ]
     },
     "execution_count": 561,
     "metadata": {},
     "output_type": "execute_result"
    }
   ],
   "source": [
    "# Group the data by \"Make\" and calculate the average \"Number.of.Engines\"\n",
    "average_engines_by_make = df.groupby('Make')['Number.of.Engines'].mean()\n",
    "average_engines_by_make"
   ]
  },
  {
   "cell_type": "code",
   "execution_count": 562,
   "metadata": {},
   "outputs": [
    {
     "data": {
      "text/plain": [
       "Model\n",
       "&GCBC                 1.0\n",
       "(EX) RV-6             1.0\n",
       "(MODIFIED)            1.0\n",
       "(SOLOY CONVERSION)    1.0\n",
       "-269C                 1.0\n",
       "                     ... \n",
       "lebed                 1.0\n",
       "none                  1.0\n",
       "sportstar             1.0\n",
       "unk                   1.0\n",
       "unknown               1.0\n",
       "Name: Number.of.Engines, Length: 12316, dtype: float64"
      ]
     },
     "execution_count": 562,
     "metadata": {},
     "output_type": "execute_result"
    }
   ],
   "source": [
    "average_engines_by_model = df.groupby('Model')['Number.of.Engines'].mean()\n",
    "average_engines_by_model"
   ]
  },
  {
   "cell_type": "code",
   "execution_count": 563,
   "metadata": {},
   "outputs": [
    {
     "data": {
      "text/plain": [
       "8.0"
      ]
     },
     "execution_count": 563,
     "metadata": {},
     "output_type": "execute_result"
    }
   ],
   "source": [
    "max_average_engines = average_engines_by_make.max()\n",
    "max_average_engines"
   ]
  },
  {
   "cell_type": "code",
   "execution_count": 564,
   "metadata": {},
   "outputs": [
    {
     "name": "stdout",
     "output_type": "stream",
     "text": [
      "Makes with 5 or more occurrences:\n",
      "cessna                           899\n",
      "piper                            723\n",
      "boeing                           651\n",
      "beech                            604\n",
      "bell                             306\n",
      "                                ... \n",
      "head                               5\n",
      "antonov                            5\n",
      "aerostar international inc.        5\n",
      "flight design                      5\n",
      "embraer-empresa brasileira de      5\n",
      "Name: Make, Length: 435, dtype: int64\n"
     ]
    }
   ],
   "source": [
    "# Group the data by \"Make\" and count the occurrences\n",
    "make_counts = df['Make'].value_counts()\n",
    "\n",
    "# Filter the makes with 5 or more occurrences\n",
    "makes_greater_than_equal_to_5 = make_counts[make_counts >= 5]\n",
    "\n",
    "print(\"Makes with 5 or more occurrences:\")\n",
    "print(makes_greater_than_equal_to_5)"
   ]
  },
  {
   "cell_type": "code",
   "execution_count": 565,
   "metadata": {},
   "outputs": [],
   "source": [
    "filtered_df = df[df['Number.of.Engines'] >= 5]"
   ]
  },
  {
   "cell_type": "code",
   "execution_count": 566,
   "metadata": {},
   "outputs": [],
   "source": [
    "unique_makes = filtered_df['Make'].unique()"
   ]
  },
  {
   "cell_type": "code",
   "execution_count": 567,
   "metadata": {},
   "outputs": [
    {
     "name": "stdout",
     "output_type": "stream",
     "text": [
      "Makes with Number.of.Engines equal to or greater than 5:\n",
      "['kitty hawk' 'cameron' 'lindstrand' 'joby aero inc']\n"
     ]
    }
   ],
   "source": [
    "# Filter the DataFrame based on the condition\n",
    "filtered_df = df[df['Number.of.Engines'] >= 5]\n",
    "\n",
    "# Get unique makes from the filtered DataFrame\n",
    "unique_makes = filtered_df['Make'].unique()\n",
    "\n",
    "print(\"Makes with Number.of.Engines equal to or greater than 5:\")\n",
    "print(unique_makes)"
   ]
  },
  {
   "cell_type": "code",
   "execution_count": 568,
   "metadata": {},
   "outputs": [
    {
     "data": {
      "image/png": "[encoded data removed]",
      "text/plain": [
       "<Figure size 720x432 with 1 Axes>"
      ]
     },
     "metadata": {
      "needs_background": "light"
     },
     "output_type": "display_data"
    }
   ],
   "source": [
    "# Create a histogram using matplotlib\n",
    "plt.figure(figsize=(10, 6))\n",
    "\n",
    "# Plot the histogram\n",
    "plt.hist(df['Number.of.Engines'], bins=20, color='skyblue', edgecolor='black')\n",
    "\n",
    "plt.title('Distribution of Number of Engines')\n",
    "plt.xlabel('Number of Engines')\n",
    "plt.ylabel('Frequency')\n",
    "\n",
    "plt.tight_layout()\n",
    "plt.show()"
   ]
  },
  {
   "cell_type": "code",
   "execution_count": 569,
   "metadata": {},
   "outputs": [],
   "source": [
    "x = df['Make'].value_counts().sort_index().index\n",
    "y = df['Number.of.Engines'].value_counts().sort_index().values"
   ]
  },
  {
   "cell_type": "code",
   "execution_count": 570,
   "metadata": {},
   "outputs": [],
   "source": [
    "# Filter out rows with null values in both \"Make\" and \"Model\" columns\n",
    "filtered_df = df.dropna(subset=['Make', 'Model'])\n",
    "\n",
    "# Find unique models for Boeing\n",
    "BOEING_models = filtered_df[filtered_df['Make'] == 'Boeing']['Model'].unique()\n",
    "\n"
   ]
  },
  {
   "cell_type": "code",
   "execution_count": 571,
   "metadata": {},
   "outputs": [
    {
     "data": {
      "image/png": "[encoded data removed]",
      "text/plain": [
       "<Figure size 864x432 with 1 Axes>"
      ]
     },
     "metadata": {
      "needs_background": "light"
     },
     "output_type": "display_data"
    }
   ],
   "source": [
    "filtered_df = df[df['Number.of.Engines'] >= 4]\n",
    "\n",
    "# Get the 20 most common models\n",
    "top_20_models = filtered_df['Make'].value_counts().head(20)\n",
    "\n",
    "# Create a line plot using matplotlib\n",
    "plt.figure(figsize=(12, 6))\n",
    "\n",
    "plt.plot(top_20_models.index, top_20_models.values, marker='o', linestyle='-', color='b')\n",
    "\n",
    "plt.title('Line Plot of Top 20 Models with Number of Engines >= 4')\n",
    "plt.xlabel('Model')\n",
    "plt.ylabel('Count')\n",
    "plt.xticks(rotation=90)\n",
    "plt.grid(True, axis='y', linestyle='--', alpha=0.7)\n",
    "\n",
    "plt.tight_layout()\n",
    "plt.show()\n"
   ]
  },
  {
   "cell_type": "code",
   "execution_count": 572,
   "metadata": {},
   "outputs": [
    {
     "name": "stdout",
     "output_type": "stream",
     "text": [
      "Repetitive Makes:\n",
      "['cessna' 'beech' 'piper' ... 'hagerty' 'airborne windsports'\n",
      " 'rotorsport uk ltd']\n"
     ]
    }
   ],
   "source": [
    "repetitive_makes = df['Make'][df['Make'].duplicated()].unique()\n",
    "\n",
    "# Print the repetitive \"Make\" values\n",
    "print(\"Repetitive Makes:\")\n",
    "print(repetitive_makes)"
   ]
  },
  {
   "cell_type": "code",
   "execution_count": 573,
   "metadata": {},
   "outputs": [
    {
     "name": "stdout",
     "output_type": "stream",
     "text": [
      "             Event.Id Investigation.Type Accident.Number Event.Date  \\\n",
      "7      20020909X01562           Accident      SEA82DA022 1982-01-01   \n",
      "8      20020909X01561           Accident      NYC82DA015 1982-01-01   \n",
      "9      20020909X01560           Accident      MIA82DA029 1982-01-01   \n",
      "10     20020909X01559           Accident      FTW82DA034 1982-01-01   \n",
      "11     20020909X01558           Accident      ATL82DKJ10 1982-01-01   \n",
      "...               ...                ...             ...        ...   \n",
      "19070  20221206106422           Accident      CEN23LA061 2022-12-05   \n",
      "19071  20221212106439           Accident      DCA23LA093 2022-12-08   \n",
      "19072  20221213106456           Accident      WPR23LA066 2022-12-12   \n",
      "19073  20221227106496           Accident      WPR23LA074 2022-12-17   \n",
      "19074  20221219106472           Accident      DCA23LA096 2022-12-18   \n",
      "\n",
      "               Location        Country Latitude Longitude Airport.Code  \\\n",
      "7           PULLMAN, WA  United States      NaN       NaN          NaN   \n",
      "8      EAST HANOVER, NJ  United States      NaN       NaN          N58   \n",
      "9      JACKSONVILLE, FL  United States      NaN       NaN          JAX   \n",
      "10            HOBBS, NM  United States      NaN       NaN          NaN   \n",
      "11         TUSKEGEE, AL  United States      NaN       NaN          NaN   \n",
      "...                 ...            ...      ...       ...          ...   \n",
      "19070     St. Louis, MO  United States  384327N  0903034W          1H0   \n",
      "19071        Newark, NJ  United States      NaN       NaN          NaN   \n",
      "19072       Redding, CA  United States  039101N  0121410W          RDD   \n",
      "19073    Cottonwood, CA  United States      NaN       NaN          NaN   \n",
      "19074       Kahului, HI  United States      NaN       NaN          NaN   \n",
      "\n",
      "             Airport.Name  ... Total.Serious.Injuries Total.Minor.Injuries  \\\n",
      "7      BLACKBURN AG STRIP  ...                    0.0                  0.0   \n",
      "8                 HANOVER  ...                    0.0                  0.0   \n",
      "9       JACKSONVILLE INTL  ...                    0.0                  3.0   \n",
      "10                    NaN  ...                    0.0                  0.0   \n",
      "11               TUSKEGEE  ...                    0.0                  0.0   \n",
      "...                   ...  ...                    ...                  ...   \n",
      "19070         CREVE COEUR  ...                    2.0                  0.0   \n",
      "19071                 NaN  ...                    3.0                  1.0   \n",
      "19072                 NaN  ...                    1.0                  0.0   \n",
      "19073                 NaN  ...                    1.0                  0.0   \n",
      "19074                 NaN  ...                    0.0                  0.0   \n",
      "\n",
      "      Total.Uninjured Weather.Condition Broad.phase.of.flight   Report.Status  \\\n",
      "7                 2.0               VMC               Takeoff  Probable Cause   \n",
      "8                 2.0               IMC               Landing  Probable Cause   \n",
      "9                 0.0               IMC                Cruise  Probable Cause   \n",
      "10                1.0               VMC              Approach  Probable Cause   \n",
      "11                1.0               VMC               Landing  Probable Cause   \n",
      "...               ...               ...                   ...             ...   \n",
      "19070             0.0               VMC                   NaN             NaN   \n",
      "19071           175.0               NaN                   NaN             NaN   \n",
      "19072             0.0               NaN                   NaN             NaN   \n",
      "19073             0.0               NaN                   NaN             NaN   \n",
      "19074             0.0               NaN                   NaN             NaN   \n",
      "\n",
      "      Publication.Date  Year Month.Abbr Day.Abbr  \n",
      "7           01-01-1982  1982        Jan      Fri  \n",
      "8           01-01-1982  1982        Jan      Fri  \n",
      "9           01-01-1982  1982        Jan      Fri  \n",
      "10          01-01-1982  1982        Jan      Fri  \n",
      "11          01-01-1982  1982        Jan      Fri  \n",
      "...                ...   ...        ...      ...  \n",
      "19070       08-12-2022  2022        Dec      Mon  \n",
      "19071       12-12-2022  2022        Dec      Thu  \n",
      "19072       27-12-2022  2022        Dec      Mon  \n",
      "19073       27-12-2022  2022        Dec      Sat  \n",
      "19074              NaN  2022        Dec      Sun  \n",
      "\n",
      "[19068 rows x 34 columns]\n"
     ]
    }
   ],
   "source": [
    "repetitive_makes = df['Make'][df['Make'].duplicated()].unique()\n",
    "\n",
    "# Combine repetitive \"Make\" values into a single consistent value\n",
    "consistent_make = 'Combined Make'  # Replace with the desired consistent value\n",
    "\n",
    "# Replace repetitive \"Make\" values with the consistent value\n",
    "df['Make'].replace(repetitive_makes, consistent_make, inplace=True)\n",
    "\n",
    "# Print the modified DataFrame\n",
    "print(df)"
   ]
  },
  {
   "cell_type": "code",
   "execution_count": 574,
   "metadata": {},
   "outputs": [
    {
     "name": "stdout",
     "output_type": "stream",
     "text": [
      "Make\n",
      "Combined Make    1426\n",
      "Name: Model, dtype: int64\n"
     ]
    }
   ],
   "source": [
    "df['Event.Date'] = pd.to_datetime(df['Event.Date'])\n",
    "\n",
    "# Extract year from 'Event.Date'\n",
    "df['Year'] = df['Event.Date'].dt.year\n",
    "\n",
    "# Filter the DataFrame to include only rows with 'Year' greater than or equal to 2015\n",
    "df = df[df['Year'] >= 2015]\n",
    "\n",
    "# Filter out rows with null values in both \"Make\" and \"Model\" columns\n",
    "filtered_df = df.dropna(subset=['Make', 'Model'])\n",
    "\n",
    "# Group by \"Make\" and count unique \"Model\" values\n",
    "make_engine_counts = filtered_df.groupby('Make')['Model'].nunique()\n",
    "\n",
    "# Filter makes with 4 or more engines\n",
    "makes_with_4_or_more_engines = make_engine_counts[make_engine_counts >= 4]\n",
    "\n",
    "print(makes_with_4_or_more_engines)\n",
    "\n"
   ]
  },
  {
   "cell_type": "code",
   "execution_count": 575,
   "metadata": {},
   "outputs": [
    {
     "data": {
      "image/png": "[encoded data removed]",
      "text/plain": [
       "<Figure size 864x432 with 1 Axes>"
      ]
     },
     "metadata": {
      "needs_background": "light"
     },
     "output_type": "display_data"
    }
   ],
   "source": [
    "df['Event.Date'] = pd.to_datetime(df['Event.Date'])\n",
    "\n",
    "# Extract year from 'Event.Date'\n",
    "df['Year'] = df['Event.Date'].dt.year\n",
    "\n",
    "# Filter the DataFrame to include only rows with 'Year' greater than or equal to 2015\n",
    "df = df[df['Year'] >= 2015]\n",
    "\n",
    "# Filter out rows with null values in both \"Make\" and \"Model\" columns\n",
    "filtered_df = df.dropna(subset=['Make', 'Model'])\n",
    "\n",
    "# Group by \"Make\" and \"Model\" and count occurrences\n",
    "make_model_engine_counts = filtered_df.groupby(['Make', 'Model'])['Model'].count()\n",
    "\n",
    "# Filter models with 4 or more engines\n",
    "models_with_4_plus_engines = make_model_engine_counts[make_model_engine_counts >= 4]\n",
    "\n",
    "# Get the top 15 models by make\n",
    "top_models_by_make = models_with_4_plus_engines.groupby('Make').nlargest(15).reset_index(level=0, drop=True)\n",
    "\n",
    "# Create a bar plot\n",
    "plt.figure(figsize=(12, 6))\n",
    "top_models_by_make.sort_values().plot(kind='bar', color='skyblue')\n",
    "plt.title('Top 15 Models by Make with 4 or More Engines Made After 2015')\n",
    "plt.xlabel('Model')\n",
    "plt.ylabel('Count')\n",
    "plt.xticks(rotation=90)\n",
    "plt.tight_layout()\n",
    "plt.show()"
   ]
  },
  {
   "cell_type": "code",
   "execution_count": 576,
   "metadata": {},
   "outputs": [
    {
     "data": {
      "image/png": "[encoded data removed]",
      "text/plain": [
       "<Figure size 864x432 with 1 Axes>"
      ]
     },
     "metadata": {
      "needs_background": "light"
     },
     "output_type": "display_data"
    }
   ],
   "source": [
    "\n",
    "df['Event.Date'] = pd.to_datetime(df['Event.Date'])\n",
    "\n",
    "# Extract year from 'Event.Date'\n",
    "df['Year'] = df['Event.Date'].dt.year\n",
    "\n",
    "# Filter the DataFrame to include only rows with 'Year' greater than or equal to 2015\n",
    "df = df[df['Year'] >= 2015]\n",
    "\n",
    "# Filter models with 4 or more engines\n",
    "models_4_plus_engines = df[df['Number.of.Engines'] >= 4]\n",
    "\n",
    "# Create a bar plot using Seaborn\n",
    "plt.figure(figsize=(12, 6))\n",
    "ax = sns.countplot(data=models_4_plus_engines, y='Model', hue='Number.of.Engines', palette='viridis')\n",
    "\n",
    "plt.title('Models with 4 or More Engines Made After 2015')\n",
    "plt.xlabel('Count')\n",
    "plt.ylabel('Model')\n",
    "plt.legend(title='Number of Engines')\n",
    "\n",
    "plt.tight_layout()\n",
    "plt.show()\n"
   ]
  },
  {
   "cell_type": "markdown",
   "metadata": {},
   "source": [
    "In the graph above, the count on the x-axis represents the number of occurrences of each model with 4 or more engines. Each bar corresponds to a specific model, and the height of the bar indicates how many times that particular model appears in the dataset with 4 or more engines. The hue color distinction indicates the number of engines for each model."
   ]
  },
  {
   "cell_type": "code",
   "execution_count": 578,
   "metadata": {},
   "outputs": [
    {
     "data": {
      "image/png": "[encoded data removed]",
      "text/plain": [
       "<Figure size 864x432 with 1 Axes>"
      ]
     },
     "metadata": {
      "needs_background": "light"
     },
     "output_type": "display_data"
    }
   ],
   "source": [
    "\n",
    "# Convert makes to uppercase for consistency\n",
    "df['Make'] = df['Make'].str.upper()\n",
    "\n",
    "# Convert 'Event.Date' to datetime\n",
    "df['Event.Date'] = pd.to_datetime(df['Event.Date'])\n",
    "\n",
    "# Extract year from 'Event.Date'\n",
    "df['Year'] = df['Event.Date'].dt.year\n",
    "\n",
    "# Filter the DataFrame to include only rows with 'Year' greater than or equal to 2015\n",
    "df = df[df['Year'] >= 2015]\n",
    "\n",
    "# Filter makes with 4 or more engines\n",
    "makes_4_plus_engines = df[df['Number.of.Engines'] >= 4]\n",
    "\n",
    "# Count the occurrences of each make\n",
    "make_counts = makes_4_plus_engines['Make'].value_counts()\n",
    "\n",
    "# Create a bar plot\n",
    "plt.figure(figsize=(12, 6))\n",
    "make_counts.plot(kind='bar', color='skyblue')\n",
    "plt.title('Makes with 4 or More Engines Made After 2015')\n",
    "plt.xlabel('Make')\n",
    "plt.ylabel('Models in Make')\n",
    "plt.xticks(rotation=90)\n",
    "plt.tight_layout()\n",
    "\n",
    "# Show the plot\n",
    "plt.show()\n"
   ]
  }
 ],
 "metadata": {
  "kernelspec": {
   "display_name": "Python (learn-env)",
   "language": "python",
   "name": "learn-env"
  },
  "language_info": {
   "codemirror_mode": {
    "name": "ipython",
    "version": 3
   },
   "file_extension": ".py",
   "mimetype": "text/x-python",
   "name": "python",
   "nbconvert_exporter": "python",
   "pygments_lexer": "ipython3",
   "version": "3.8.5"
  }
 },
 "nbformat": 4,
 "nbformat_minor": 4
}
